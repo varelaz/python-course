{
 "cells": [
  {
   "cell_type": "code",
   "execution_count": 20,
   "id": "c08eae1d",
   "metadata": {},
   "outputs": [],
   "source": [
    "class Shape:\n",
    "    def __init__(self, x, y):\n",
    "        print(f\"Construct shape with {x} {y}\")\n",
    "        self.x = x\n",
    "        self.y = y\n",
    "\n",
    "    def draw(self):\n",
    "        print(\"Drawing shape\")\n",
    "\n",
    "    def get_square(self):\n",
    "        pass\n",
    "\n",
    "    def get_center(self):\n",
    "        return self.x, self.y\n",
    "\n",
    "\n",
    "\n",
    "class Circle(Shape):\n",
    "    def __init__(self, x, y, r):\n",
    "        print(f\"Construct circle with {x} {y} {r}\")\n",
    "        super().__init__(x, y)\n",
    "\n",
    "        self.r = r\n",
    "    \n",
    "    def draw(self):\n",
    "        print(\"Something before draw shape\")\n",
    "        # before call parent\n",
    "        super().draw()\n",
    "        # bla bla bla\n",
    "        print(\"After drawing\")\n",
    "        \n",
    "\n",
    "class RightTriangle(Shape):\n",
    "    def __init__(self, x, y, a):\n",
    "        super().__init__(x, y)\n",
    "\n",
    "        self.a = a\n"
   ]
  },
  {
   "cell_type": "code",
   "execution_count": 18,
   "id": "caa71aee",
   "metadata": {},
   "outputs": [
    {
     "name": "stdout",
     "output_type": "stream",
     "text": [
      "Construct circle with 0 0 10\n",
      "Construct shape with 0 0\n"
     ]
    }
   ],
   "source": [
    "c1 = Circle(0, 0, 10"
   ]
  },
  {
   "cell_type": "code",
   "execution_count": 19,
   "id": "835d7178",
   "metadata": {},
   "outputs": [
    {
     "name": "stdout",
     "output_type": "stream",
     "text": [
      "Something before draw shape\n",
      "Drawing shape\n",
      "After drawing\n"
     ]
    }
   ],
   "source": [
    "c1.draw()"
   ]
  },
  {
   "cell_type": "code",
   "execution_count": 21,
   "id": "f5b85821",
   "metadata": {},
   "outputs": [
    {
     "name": "stdout",
     "output_type": "stream",
     "text": [
      "Construct shape with 10 10\n",
      "Drawing shape\n"
     ]
    }
   ],
   "source": [
    "r1 = RightTriangle(10, 10, 100)\n",
    "r1.draw()"
   ]
  },
  {
   "cell_type": "code",
   "execution_count": 5,
   "id": "3ae9ec5c",
   "metadata": {},
   "outputs": [
    {
     "data": {
      "text/plain": [
       "<__main__.Shape at 0x7feddc482bb0>"
      ]
     },
     "execution_count": 5,
     "metadata": {},
     "output_type": "execute_result"
    }
   ],
   "source": [
    "s2"
   ]
  },
  {
   "cell_type": "code",
   "execution_count": 6,
   "id": "0cadbbe6",
   "metadata": {},
   "outputs": [
    {
     "data": {
      "text/plain": [
       "(2, 3)"
      ]
     },
     "execution_count": 6,
     "metadata": {},
     "output_type": "execute_result"
    }
   ],
   "source": [
    "s.get_center()\n",
    "s2.get_center()"
   ]
  },
  {
   "cell_type": "code",
   "execution_count": 7,
   "id": "7294ff1a",
   "metadata": {},
   "outputs": [
    {
     "data": {
      "text/plain": [
       "__main__.Shape"
      ]
     },
     "execution_count": 7,
     "metadata": {},
     "output_type": "execute_result"
    }
   ],
   "source": [
    "type(s)"
   ]
  },
  {
   "cell_type": "code",
   "execution_count": 8,
   "id": "6676cb38",
   "metadata": {},
   "outputs": [
    {
     "data": {
      "text/plain": [
       "str"
      ]
     },
     "execution_count": 8,
     "metadata": {},
     "output_type": "execute_result"
    }
   ],
   "source": [
    "type(\"abc\")"
   ]
  },
  {
   "cell_type": "code",
   "execution_count": null,
   "id": "52a0a978",
   "metadata": {},
   "outputs": [],
   "source": []
  }
 ],
 "metadata": {
  "kernelspec": {
   "display_name": "Python 3 (ipykernel)",
   "language": "python",
   "name": "python3"
  },
  "language_info": {
   "codemirror_mode": {
    "name": "ipython",
    "version": 3
   },
   "file_extension": ".py",
   "mimetype": "text/x-python",
   "name": "python",
   "nbconvert_exporter": "python",
   "pygments_lexer": "ipython3",
   "version": "3.9.9"
  }
 },
 "nbformat": 4,
 "nbformat_minor": 5
}
