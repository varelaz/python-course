{
 "cells": [
  {
   "cell_type": "code",
   "execution_count": 1,
   "id": "44fc4295",
   "metadata": {},
   "outputs": [
    {
     "name": "stdout",
     "output_type": "stream",
     "text": [
      "Help on function f in module __main__:\n",
      "\n",
      "f()\n",
      "    Answer to main question of life and everything\n",
      "\n"
     ]
    }
   ],
   "source": [
    "def f():\n",
    "    \"\"\" Answer to main question of life and everything \"\"\"\n",
    "    return 42\n",
    "\n",
    "help(f)"
   ]
  },
  {
   "cell_type": "code",
   "execution_count": 2,
   "id": "9cb85cee",
   "metadata": {},
   "outputs": [
    {
     "name": "stdout",
     "output_type": "stream",
     "text": [
      "Help on function wrapper in module __main__:\n",
      "\n",
      "wrapper(*args)\n",
      "\n"
     ]
    }
   ],
   "source": [
    "def deco_demo1(f):\n",
    "    def wrapper(*args):\n",
    "        return f(args)\n",
    "    return wrapper\n",
    "\n",
    "@deco_demo1\n",
    "def f2():\n",
    "    \"\"\" Answer to main question of life and everything \"\"\"\n",
    "    return 42\n",
    "\n",
    "help(f2)"
   ]
  },
  {
   "cell_type": "code",
   "execution_count": 4,
   "id": "6ca42f23",
   "metadata": {},
   "outputs": [
    {
     "name": "stdout",
     "output_type": "stream",
     "text": [
      "Help on function f3 in module __main__:\n",
      "\n",
      "f3()\n",
      "    Answer to main question of life and everything\n",
      "\n"
     ]
    }
   ],
   "source": [
    "import functools\n",
    "\n",
    "def deco_demo2(f):\n",
    "    @functools.wraps(f)\n",
    "    def wrapper(*args):\n",
    "        # something before\n",
    "        result = f(*args)\n",
    "        # something after\n",
    "        return result\n",
    "    return wrapper\n",
    "\n",
    "@deco_demo2\n",
    "def f3():\n",
    "    \"\"\" Answer to main question of life and everything \"\"\"\n",
    "    return 42\n",
    "\n",
    "help(f3)"
   ]
  },
  {
   "cell_type": "code",
   "execution_count": null,
   "id": "6deed367",
   "metadata": {},
   "outputs": [],
   "source": []
  }
 ],
 "metadata": {
  "kernelspec": {
   "display_name": "Python 3",
   "language": "python",
   "name": "python3"
  },
  "language_info": {
   "codemirror_mode": {
    "name": "ipython",
    "version": 3
   },
   "file_extension": ".py",
   "mimetype": "text/x-python",
   "name": "python",
   "nbconvert_exporter": "python",
   "pygments_lexer": "ipython3",
   "version": "3.6.11"
  }
 },
 "nbformat": 4,
 "nbformat_minor": 5
}
