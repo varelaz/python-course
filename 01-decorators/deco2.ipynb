{
 "cells": [
  {
   "cell_type": "code",
   "execution_count": 2,
   "id": "8c41efad",
   "metadata": {},
   "outputs": [
    {
     "name": "stdout",
     "output_type": "stream",
     "text": [
      "Hello John\n",
      "Hi Ben\n"
     ]
    }
   ],
   "source": [
    "def greetings_factory(greeting='Hello'):\n",
    "    def say_hello_result(name):\n",
    "        print(greeting, name)\n",
    "    return say_hello_result\n",
    "\n",
    "say_hello = greetings_factory()\n",
    "say_hi = greetings_factory('Hi')\n",
    "\n",
    "say_hello('John')\n",
    "say_hi('Ben')"
   ]
  },
  {
   "cell_type": "code",
   "execution_count": 3,
   "id": "a48faa12",
   "metadata": {},
   "outputs": [
    {
     "name": "stdout",
     "output_type": "stream",
     "text": [
      "6\n"
     ]
    }
   ],
   "source": [
    "def add_numbers(*args):\n",
    "    def add_function(x):\n",
    "        return sum(args) + x\n",
    "    return add_function\n",
    "\n",
    "add_2_3 = add_numbers(2, 3)\n",
    "print(add_2_3(1))"
   ]
  },
  {
   "cell_type": "code",
   "execution_count": 5,
   "id": "c20e8e6d",
   "metadata": {},
   "outputs": [
    {
     "name": "stdout",
     "output_type": "stream",
     "text": [
      "2\n",
      "4\n"
     ]
    }
   ],
   "source": [
    "def add_2(f):\n",
    "    def decorated_function(*args):\n",
    "        return f() + 2\n",
    "    return decorated_function\n",
    "\n",
    "def return_2():\n",
    "    return 2\n",
    "\n",
    "print(return_2())\n",
    "\n",
    "add_2_2 = add_2(return_2)\n",
    "print(add_2_2())"
   ]
  },
  {
   "cell_type": "code",
   "execution_count": 19,
   "id": "8d8cdbc8",
   "metadata": {},
   "outputs": [
    {
     "name": "stdout",
     "output_type": "stream",
     "text": [
      "Elapsed time 0.632634162902832\n",
      "Result 50000005000000\n"
     ]
    }
   ],
   "source": [
    "import time\n",
    "\n",
    "def profile(f):\n",
    "    def wrapper_function(*args):\n",
    "        start = time.time()\n",
    "        result = f(*args)\n",
    "        end = time.time()\n",
    "        print(f\"Elapsed time {end - start}\")\n",
    "        return result\n",
    "    return wrapper_function\n",
    "\n",
    "def triangle_number(n):\n",
    "    r = 0\n",
    "    for i in range(n+1):\n",
    "        r += i\n",
    "    return r\n",
    "\n",
    "profiled_f = profile(triangle_number)\n",
    "\n",
    "result = profiled_f(10000000)\n",
    "print('Result', result)"
   ]
  },
  {
   "cell_type": "code",
   "execution_count": 20,
   "id": "04be295b",
   "metadata": {},
   "outputs": [
    {
     "name": "stdout",
     "output_type": "stream",
     "text": [
      "Elapsed time 0.8338329792022705\n",
      "Result 50000005000000\n"
     ]
    }
   ],
   "source": [
    "import time\n",
    "\n",
    "def profile(f):\n",
    "    def wrapper_function(*args):\n",
    "        start = time.time()\n",
    "        result = f(*args)\n",
    "        end = time.time()\n",
    "        print(f\"Elapsed time {end - start}\")\n",
    "        return result\n",
    "    return wrapper_function\n",
    "\n",
    "@profile # triangle_number_2 = profile(triangle_number_2)\n",
    "def triangle_number_2(n):\n",
    "    r = 0\n",
    "    for i in range(n+1):\n",
    "        r += i\n",
    "    return r\n",
    "\n",
    "result = triangle_number_2(10000000)\n",
    "print('Result', result)"
   ]
  },
  {
   "cell_type": "code",
   "execution_count": null,
   "id": "c21c229f",
   "metadata": {},
   "outputs": [],
   "source": []
  }
 ],
 "metadata": {
  "kernelspec": {
   "display_name": "Python 3",
   "language": "python",
   "name": "python3"
  },
  "language_info": {
   "codemirror_mode": {
    "name": "ipython",
    "version": 3
   },
   "file_extension": ".py",
   "mimetype": "text/x-python",
   "name": "python",
   "nbconvert_exporter": "python",
   "pygments_lexer": "ipython3",
   "version": "3.6.11"
  }
 },
 "nbformat": 4,
 "nbformat_minor": 5
}
