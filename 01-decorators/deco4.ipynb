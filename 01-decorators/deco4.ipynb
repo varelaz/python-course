{
 "cells": [
  {
   "cell_type": "code",
   "execution_count": 2,
   "id": "59f7b52a",
   "metadata": {},
   "outputs": [
    {
     "name": "stdout",
     "output_type": "stream",
     "text": [
      "Elapsed time 0.041063547134399414\n",
      "Result 1000000\n"
     ]
    }
   ],
   "source": [
    "import functools\n",
    "import time\n",
    "\n",
    "def profile(f):\n",
    "    @functools.wraps(f)\n",
    "    def wrapper(*args, **kwargs):\n",
    "        # something before\n",
    "        start = time.time()\n",
    "        result = f(*args, **kwargs)\n",
    "        # something after\n",
    "        end = time.time()\n",
    "        print(\"Elapsed time\", end - start)\n",
    "        return result\n",
    "    return wrapper\n",
    "\n",
    "@profile\n",
    "def countdown(n):\n",
    "    for i in range(n):\n",
    "        pass\n",
    "    return n\n",
    "\n",
    "result = countdown(1000000)\n",
    "print(\"Result\", result)"
   ]
  },
  {
   "cell_type": "code",
   "execution_count": 3,
   "id": "215062f4",
   "metadata": {},
   "outputs": [
    {
     "name": "stdout",
     "output_type": "stream",
     "text": [
      "Time taken 0.03944134712219238\n",
      "Result 1000000\n"
     ]
    }
   ],
   "source": [
    "import functools\n",
    "import time\n",
    "\n",
    "def profile_with_message(msg): # return decorator with parameter msg available\n",
    "    def profile(f):            # decorates f\n",
    "        @functools.wraps(f)\n",
    "        def wrapper(*args, **kwargs):   # wrapper code\n",
    "            # something before\n",
    "            start = time.time()\n",
    "            result = f(*args, **kwargs)  # call f\n",
    "            # something after\n",
    "            end = time.time()\n",
    "            print(msg, end - start)\n",
    "            return result\n",
    "        return wrapper\n",
    "    return profile\n",
    "\n",
    "@profile_with_message(\"Time taken\")\n",
    "def countdown(n):\n",
    "    for i in range(n):\n",
    "        pass\n",
    "    return n\n",
    "\n",
    "result = countdown(1000000)\n",
    "print(\"Result\", result)"
   ]
  },
  {
   "cell_type": "code",
   "execution_count": 16,
   "id": "19cd56d0",
   "metadata": {},
   "outputs": [
    {
     "name": "stdout",
     "output_type": "stream",
     "text": [
      "wait 0.1 seconds\n",
      "wait 0.2 seconds\n",
      "wait 0.4 seconds\n",
      "Result 4\n"
     ]
    }
   ],
   "source": [
    "import functools\n",
    "import time\n",
    "import random\n",
    "\n",
    "def retry(times, start_wait=0.1):\n",
    "    def internal(f):\n",
    "        @functools.wraps(f)\n",
    "        def wrapper(*args, **kwargs):\n",
    "            wait = start_wait\n",
    "            for i in range(times-1):\n",
    "                try:\n",
    "                    return f(*args, **kwargs)\n",
    "                except:\n",
    "                    print(f'wait {wait} seconds')\n",
    "                    time.sleep(wait)\n",
    "                    wait *= 2\n",
    "            return f(*args, **kwargs)\n",
    "        return wrapper\n",
    "    return internal\n",
    "\n",
    "@retry(4)\n",
    "def countdown():\n",
    "    if random.randint(0, 3):\n",
    "        raise ValueError()\n",
    "    return 4\n",
    "\n",
    "result = countdown()\n",
    "print(\"Result\", result)"
   ]
  },
  {
   "cell_type": "code",
   "execution_count": 23,
   "id": "b3b6dcbb",
   "metadata": {},
   "outputs": [
    {
     "name": "stdout",
     "output_type": "stream",
     "text": [
      "calculate (1000,)\n",
      "from cache (1000,)\n",
      "Result 500500 500500\n"
     ]
    }
   ],
   "source": [
    "import functools\n",
    "\n",
    "def cache(f):    \n",
    "    @functools.wraps(f)\n",
    "    def wrapper(*args):\n",
    "        if args not in wrapper._cache:\n",
    "            print('calculate', args)\n",
    "            wrapper._cache[args] = f(*args)\n",
    "        else:\n",
    "            print('from cache', args)\n",
    "        return wrapper._cache[args]\n",
    "\n",
    "    wrapper._cache = {}\n",
    "    return wrapper\n",
    "\n",
    "@cache\n",
    "def triangle(n):\n",
    "    return sum(range(n+1))\n",
    "\n",
    "result1 = triangle(1000)\n",
    "result2 = triangle(1000)\n",
    "print(\"Result\", result1, result2)"
   ]
  },
  {
   "cell_type": "code",
   "execution_count": null,
   "id": "dc0851fb",
   "metadata": {},
   "outputs": [],
   "source": []
  }
 ],
 "metadata": {
  "kernelspec": {
   "display_name": "Python 3",
   "language": "python",
   "name": "python3"
  },
  "language_info": {
   "codemirror_mode": {
    "name": "ipython",
    "version": 3
   },
   "file_extension": ".py",
   "mimetype": "text/x-python",
   "name": "python",
   "nbconvert_exporter": "python",
   "pygments_lexer": "ipython3",
   "version": "3.6.11"
  }
 },
 "nbformat": 4,
 "nbformat_minor": 5
}
