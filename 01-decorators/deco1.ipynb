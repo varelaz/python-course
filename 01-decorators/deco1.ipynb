{
 "cells": [
  {
   "cell_type": "code",
   "execution_count": 1,
   "id": "8ba905b8",
   "metadata": {},
   "outputs": [],
   "source": [
    "import random\n",
    "import time"
   ]
  },
  {
   "cell_type": "code",
   "execution_count": 2,
   "id": "14de0679",
   "metadata": {},
   "outputs": [
    {
     "name": "stdout",
     "output_type": "stream",
     "text": [
      "Elapsed time 2.7349421977996826\n"
     ]
    }
   ],
   "source": [
    "def email(settings=None):\n",
    "    time.sleep(random.random() * 3)\n",
    "\n",
    "start = time.time()\n",
    "email(settings={'smtp': 'smtp.google.com'})\n",
    "end = time.time()\n",
    "\n",
    "print(f'Elapsed time {end - start}')"
   ]
  },
  {
   "cell_type": "code",
   "execution_count": 3,
   "id": "8e13f8c6",
   "metadata": {},
   "outputs": [
    {
     "name": "stdout",
     "output_type": "stream",
     "text": [
      "Elapsed time 2.2041573524475098\n",
      "Elapsed time 0.803675651550293\n"
     ]
    }
   ],
   "source": [
    "def email_v2(settings=None):\n",
    "    start = time.time()\n",
    "    time.sleep(random.random() * 3)\n",
    "    end = time.time()\n",
    "    print(f'Elapsed time {end - start}')\n",
    "\n",
    "email_v2(settings={'smtp': 'smtp.google.com'})\n",
    "email_v2(settings={'smtp': 'smtp.outlook.com'})\n"
   ]
  },
  {
   "cell_type": "code",
   "execution_count": 4,
   "id": "111d79eb",
   "metadata": {},
   "outputs": [
    {
     "name": "stdout",
     "output_type": "stream",
     "text": [
      "Elapsed time 0.5883579254150391\n",
      "Elapsed time 2.387576103210449\n"
     ]
    }
   ],
   "source": [
    "def dump_data():\n",
    "    start = time.time()\n",
    "    time.sleep(random.random() * 3)\n",
    "    end = time.time()\n",
    "    print(f'Elapsed time {end - start}')\n",
    "\n",
    "email_v2(settings={'smtp': 'smtp.google.com'})\n",
    "dump_data()"
   ]
  },
  {
   "cell_type": "code",
   "execution_count": null,
   "id": "dac93d0a",
   "metadata": {},
   "outputs": [],
   "source": []
  }
 ],
 "metadata": {
  "kernelspec": {
   "display_name": "Python 3",
   "language": "python",
   "name": "python3"
  },
  "language_info": {
   "codemirror_mode": {
    "name": "ipython",
    "version": 3
   },
   "file_extension": ".py",
   "mimetype": "text/x-python",
   "name": "python",
   "nbconvert_exporter": "python",
   "pygments_lexer": "ipython3",
   "version": "3.6.11"
  }
 },
 "nbformat": 4,
 "nbformat_minor": 5
}
